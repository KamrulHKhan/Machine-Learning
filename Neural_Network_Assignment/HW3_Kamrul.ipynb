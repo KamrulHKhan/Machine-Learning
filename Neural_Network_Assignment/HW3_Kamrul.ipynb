{
 "cells": [
  {
   "cell_type": "markdown",
   "id": "eed51401",
   "metadata": {},
   "source": [
    "## Assignment 3"
   ]
  },
  {
   "cell_type": "markdown",
   "id": "64417b55",
   "metadata": {},
   "source": [
    "This is a homework from CSCE 5063 – 001 Machine Learning tought by Dr. Lu Zhang and collected from http://csce.uark.edu/~lz006/course/2021fall/projects.htm"
   ]
  },
  {
   "cell_type": "code",
   "execution_count": 3,
   "id": "8f241802",
   "metadata": {},
   "outputs": [],
   "source": [
    "## import necessary libraries\n",
    "\n",
    "import pandas as pd\n",
    "import numpy as np\n",
    "import matplotlib.pyplot as plt"
   ]
  },
  {
   "cell_type": "code",
   "execution_count": 4,
   "id": "eeccec42",
   "metadata": {},
   "outputs": [],
   "source": [
    "## load necessary files\n",
    "\n",
    "X_mat = pd.read_csv ('data\\X.csv', header=None).to_numpy()\n",
    "X_mat = np.append(np.ones(X_mat.shape[0]).reshape(X_mat.shape[0], 1), X_mat, axis = 1)\n",
    "\n",
    "Y_colmat = pd.read_csv ('data\\Y.csv', header=None).to_numpy()\n"
   ]
  },
  {
   "cell_type": "code",
   "execution_count": 5,
   "id": "5df5c450",
   "metadata": {},
   "outputs": [
    {
     "name": "stdout",
     "output_type": "stream",
     "text": [
      "[500 500 500 500 500 500 500 500 500 500]\n"
     ]
    }
   ],
   "source": [
    "## transform Y into a 5000 X 10 matrix\n",
    "\n",
    "Y_list = np.concatenate(Y_colmat).tolist()\n",
    "\n",
    "Y_mat = pd.get_dummies(Y_list).to_numpy()\n",
    "\n",
    "print(np.sum(Y_mat, axis = 0))"
   ]
  },
  {
   "cell_type": "code",
   "execution_count": 6,
   "id": "f9ecdd18",
   "metadata": {},
   "outputs": [],
   "source": [
    "## test cells\n",
    "\n",
    "test_pos = np.array([2171, 145, 1582, 2446, 3393, 815, 1378, 529, 3945, 4628]) \n",
    "\n",
    "## training data\n",
    "\n",
    "X_train = np.delete(X_mat, test_pos, 0)\n",
    "\n",
    "Y_train = np.delete(Y_mat, test_pos, 0)\n",
    "\n",
    "## testing data \n",
    "\n",
    "X_test = X_mat[test_pos, ]\n",
    "\n",
    "Y_test = Y_mat[test_pos, ]\n"
   ]
  },
  {
   "cell_type": "code",
   "execution_count": 7,
   "id": "0ab3c753",
   "metadata": {},
   "outputs": [],
   "source": [
    "## load intial values of the weights\n",
    "\n",
    "initial_W1 = pd.read_csv('data\\initial_W1.csv', header = None).to_numpy()\n",
    "initial_W2 = pd.read_csv('data\\initial_W2.csv', header = None).to_numpy()\n",
    "\n",
    "#print(initial_W1.shape)\n",
    "#print(initial_W2.shape)\n"
   ]
  },
  {
   "cell_type": "markdown",
   "id": "ce221a46",
   "metadata": {},
   "source": [
    "## Define activation function\n"
   ]
  },
  {
   "cell_type": "code",
   "execution_count": 8,
   "id": "29ce033e",
   "metadata": {},
   "outputs": [],
   "source": [
    "def sigmoid(x):\n",
    "    return 1/(1 + np.exp(-x))"
   ]
  },
  {
   "cell_type": "markdown",
   "id": "0af10996",
   "metadata": {},
   "source": [
    "## Forward propagation"
   ]
  },
  {
   "cell_type": "code",
   "execution_count": 9,
   "id": "1def277d",
   "metadata": {},
   "outputs": [],
   "source": [
    "## Forward propagation\n",
    "\n",
    "def forward_propagation(X, W1, W2):\n",
    "    ## adding 1 in the first column\n",
    "    Z1 = np.dot(X, W1.T)\n",
    "    H = sigmoid(Z1)\n",
    "    H_new = np.append(np.ones(H.shape[0]).reshape(H.shape[0], 1), H, axis = 1)\n",
    "    Z2 = np.dot(H_new, W2.T)\n",
    "    prob = sigmoid(Z2)\n",
    "    cache = {\"Z1\": Z1,\n",
    "             \"H\": H_new,\n",
    "             \"Z2\": Z2}\n",
    "    return prob, cache\n"
   ]
  },
  {
   "cell_type": "code",
   "execution_count": 10,
   "id": "f8ad9851",
   "metadata": {},
   "outputs": [],
   "source": [
    "## load intial values of the weights\n",
    "\n",
    "W1_check = pd.read_csv('data\\W1.csv', header = None).to_numpy()\n",
    "W2_check = pd.read_csv('data\\W2.csv', header = None).to_numpy()\n",
    "\n",
    "#print(W1_check.shape)\n",
    "#print(W2_check.shape)\n"
   ]
  },
  {
   "cell_type": "code",
   "execution_count": 11,
   "id": "5930e5bd",
   "metadata": {},
   "outputs": [
    {
     "name": "stdout",
     "output_type": "stream",
     "text": [
      "Accuracy =  0.9752\n"
     ]
    }
   ],
   "source": [
    "## check Forward propagation and prediction\n",
    "Y_prob, cache = forward_propagation(X_mat, W1_check, W2_check)\n",
    "Y_pred = np.argmax(Y_prob, axis = 1) + 1\n",
    "\n",
    "k = (Y_colmat.reshape(Y_colmat.shape[0], ) == Y_pred).astype(int)\n",
    "Accuracy = np.sum(k)/k.shape[0]\n",
    "print('Accuracy = ', Accuracy)\n"
   ]
  },
  {
   "cell_type": "code",
   "execution_count": 12,
   "id": "2f8a3237",
   "metadata": {},
   "outputs": [],
   "source": [
    "Z1 = cache['Z1']\n",
    "H = cache['H']\n",
    "Z2 = cache['Z2']"
   ]
  },
  {
   "cell_type": "markdown",
   "id": "6187d1d6",
   "metadata": {},
   "source": [
    "## Loss function"
   ]
  },
  {
   "cell_type": "code",
   "execution_count": 13,
   "id": "aa777204",
   "metadata": {},
   "outputs": [],
   "source": [
    "## Loss function\n",
    "def loss_function(prob, y, W1, W2, penalty, m):\n",
    "    part1 = np.sum(- (y*np.log(prob)) - ((1-y)*np.log(1-prob)))/m\n",
    "    part2 = penalty * (np.sum(np.square(W1)) + np.sum(np.square(W2)))/(2*m)\n",
    "    loss = part1 + part2\n",
    "    return(loss)"
   ]
  },
  {
   "cell_type": "code",
   "execution_count": 14,
   "id": "bb70e658",
   "metadata": {},
   "outputs": [
    {
     "name": "stdout",
     "output_type": "stream",
     "text": [
      "Loss =  0.5760510303521469\n"
     ]
    }
   ],
   "source": [
    "## check loss_function\n",
    "\n",
    "loss = loss_function(Y_prob, Y_mat, np.delete(W1_check, 0, 1), np.delete(W2_check, 0, 1), penalty = 3, m = Y_mat.shape[0])\n",
    "\n",
    "print('Loss = ', loss)"
   ]
  },
  {
   "cell_type": "code",
   "execution_count": 15,
   "id": "3fb2e583",
   "metadata": {},
   "outputs": [],
   "source": [
    "# Backward_propagation\n",
    "def backward_propagation(X, Y, Y_prob, W1, W2, H, lamb, m):\n",
    "    \n",
    "    ## Step 1\n",
    "    beta_2 = Y_prob - Y\n",
    "\n",
    "    ## Step 2\n",
    "    sigmoid_Z1 = np.delete(H, 0, 1)\n",
    "    grad_sigmoid_Z1 = (sigmoid_Z1*(1-sigmoid_Z1))\n",
    "    beta_1  = (np.dot(beta_2, W2))* grad_sigmoid_Z1\n",
    "\t\n",
    "    ## Step 3\n",
    "    part1_dJ_W2 = np.dot(beta_2.T, H)/m\n",
    "    W2_temp = np.append(np.zeros(W2.shape[0]).reshape(W2.shape[0], 1), W2, axis = 1)\n",
    "    part2_dJ_W2 = ((lamb/m) * W2_temp)\n",
    "    dJ_W2 = part1_dJ_W2 + part2_dJ_W2\n",
    "\n",
    "    ## Step 4\n",
    "    part1_dJ_W1 = np.dot(beta_1.T, X)/m\n",
    "    W1_temp = np.append(np.zeros(W1.shape[0]).reshape(W1.shape[0], 1), W1, axis = 1)\n",
    "    part2_dJ_W1 = ((lamb/m) * W1_temp)\n",
    "    dJ_W1 = part1_dJ_W1 + part2_dJ_W1\n",
    "    \n",
    "    grads = {\"dW1\": dJ_W1,\n",
    "             \"dW2\": dJ_W2}\n",
    "    \n",
    "    return grads"
   ]
  },
  {
   "cell_type": "code",
   "execution_count": 16,
   "id": "73b586e8",
   "metadata": {},
   "outputs": [],
   "source": [
    "## to check the back propagation function\n",
    "\n",
    "W1_grad_iter1 = pd.read_excel('data\\W1_grad.xlsx', header = None, sheet_name=\"iter 1\").to_numpy()\n",
    "W1_grad_iter2 = pd.read_excel('data\\W1_grad.xlsx', header = None, sheet_name=\"iter 2\").to_numpy()\n",
    "W1_grad_iter3 = pd.read_excel('W1_grad.xlsx', header = None, sheet_name=\"iter 3\").to_numpy()\n",
    "\n",
    "W2_grad_iter1 = pd.read_excel('data\\W2_grad.xlsx', header = None, sheet_name=\"iter 1\").to_numpy()\n",
    "W2_grad_iter2 = pd.read_excel('data\\W2_grad.xlsx', header = None, sheet_name=\"iter 2\").to_numpy()\n",
    "W2_grad_iter3 = pd.read_excel('data\\W2_grad.xlsx', header = None, sheet_name=\"iter 3\").to_numpy()"
   ]
  },
  {
   "cell_type": "code",
   "execution_count": 17,
   "id": "fb9c246f",
   "metadata": {},
   "outputs": [],
   "source": [
    "# update_parameters\n",
    "def update_parameters(W1, W2, dW1, dW2, learning_rate):\n",
    "   \n",
    "    # Update rule for each parameter\n",
    "    W1_updated = W1 - (dW1*learning_rate)\n",
    "    W2_updated = W2 - (dW2*learning_rate)\n",
    "    ### END CODE HERE ###\n",
    "    \n",
    "    parameters = {\"W1\": W1_updated,\n",
    "                  \"W2\": W2_updated}\n",
    "    \n",
    "    return parameters"
   ]
  },
  {
   "cell_type": "code",
   "execution_count": 18,
   "id": "a7511c78",
   "metadata": {},
   "outputs": [
    {
     "name": "stdout",
     "output_type": "stream",
     "text": [
      "False True\n",
      "Cost after iteration 0: 6.983948\n",
      "False True\n",
      "False True\n",
      "Cost after iteration 100: 2.970849\n",
      "Cost after iteration 200: 2.265201\n",
      "Cost after iteration 300: 1.810265\n",
      "Cost after iteration 400: 1.523561\n",
      "Cost after iteration 500: 1.327375\n",
      "Accuracy =  85.82 %\n"
     ]
    },
    {
     "data": {
      "image/png": "[encoded data removed]",
      "text/plain": [
       "<Figure size 432x288 with 1 Axes>"
      ]
     },
     "metadata": {
      "needs_background": "light"
     },
     "output_type": "display_data"
    }
   ],
   "source": [
    "## run the function on the whole data and check the accuracy 85.82% for debug purpose\n",
    "\n",
    "lossHistory = []\n",
    "loss = 0\n",
    "\n",
    "m = Y_mat.shape[0]\n",
    "W1 = initial_W1\n",
    "W2 = initial_W2\n",
    "\n",
    "for i in range(501):\n",
    "    \t\n",
    "    # Forward propagation\n",
    "    \n",
    "    Y_prob, cache = forward_propagation(X_mat, W1, W2)\n",
    "    \n",
    "    Z1 = cache['Z1']\n",
    "    H = cache['H']\n",
    "    Z2 = cache['Z2']\n",
    "\n",
    "    # Backpropagation. Inputs: \"parameters, cache, X, Y\". Outputs: \"grads\".\n",
    "    back_prop = backward_propagation(X_mat, Y_mat, Y_prob, np.delete(W1, 0, 1), np.delete(W2, 0, 1), H, lamb = 3, m = m)\n",
    "\n",
    "    dW1 = back_prop['dW1']\n",
    "    dW2 = back_prop['dW2']\n",
    "    \n",
    "    if i == 0:\n",
    "        print(np.allclose(dW1, W1_grad_iter1), np.allclose(dW2, W2_grad_iter1))\n",
    "\t\t\n",
    "    if i == 1:\n",
    "        print(np.allclose(dW1, W1_grad_iter2), np.allclose(dW2, W2_grad_iter2))\n",
    "\n",
    "    if i == 2:\n",
    "        print(np.allclose(dW1, W1_grad_iter3), np.allclose(dW2, W2_grad_iter3))\n",
    "\t\t\n",
    "    # Gradient descent parameter update. Inputs: \"parameters, grads\". Outputs: \"parameters\".\n",
    "        \n",
    "    parameters = update_parameters(W1, W2, dW1, dW2, learning_rate = 0.2)\n",
    "    \n",
    "    W1 = parameters['W1']\n",
    "    W2 = parameters['W2']\n",
    "\n",
    "   # Cost function. Inputs: \"A2, Y, parameters\". Outputs: \"cost\".\n",
    "    loss = loss_function(Y_prob, Y_mat, np.delete(W1, 0, 1), np.delete(W2, 0, 1), penalty = 3, m = m)\n",
    " #   print(loss)\n",
    "\n",
    "    lossHistory.append(loss)\n",
    "    if  i % 100 == 0:\n",
    "            print (\"Cost after iteration %i: %f\" %(i, loss))\n",
    "\n",
    "Y_pred = np.argmax(Y_prob, axis = 1) + 1\n",
    "Y_true = Y_colmat\n",
    "k = (Y_true.reshape(Y_true.shape[0], ) == Y_pred).astype(int)\n",
    "Accuracy = np.sum(k)/k.shape[0]\n",
    "print('Accuracy = ', Accuracy*100, '%')\n",
    "\n",
    "# Finally plot the cost of each iteration\n",
    "plt.plot(lossHistory)\n",
    "plt.ylabel('loss')\n",
    "plt.xlabel('iteration')\n",
    "plt.show()"
   ]
  },
  {
   "cell_type": "code",
   "execution_count": 19,
   "id": "3894aaec",
   "metadata": {},
   "outputs": [
    {
     "name": "stdout",
     "output_type": "stream",
     "text": [
      "Cost after iteration 0: 6.983858\n",
      "Cost after iteration 100: 2.971408\n",
      "Cost after iteration 200: 2.266140\n",
      "Cost after iteration 300: 1.810957\n",
      "Cost after iteration 400: 1.523998\n",
      "Cost after iteration 500: 1.327612\n"
     ]
    },
    {
     "data": {
      "image/png": "[encoded data removed]",
      "text/plain": [
       "<Figure size 432x288 with 1 Axes>"
      ]
     },
     "metadata": {
      "needs_background": "light"
     },
     "output_type": "display_data"
    }
   ],
   "source": [
    "lossHistory = []\n",
    "loss = 0\n",
    "\n",
    "m = Y_train.shape[0]\n",
    "W1 = initial_W1\n",
    "W2 = initial_W2\n",
    "for i in range(501):\n",
    "    \t\n",
    "    # Forward propagation. Inputs: \"X, parameters\". Outputs: \"A2, cache\".\n",
    "    \n",
    "    Y_prob, cache = forward_propagation(X_train, W1, W2)\n",
    "    \n",
    "    Z1 = cache['Z1']\n",
    "    H = cache['H']\n",
    "    Z2 = cache['Z2']\n",
    "\n",
    " \t\n",
    "    # Backpropagation. Inputs: \"parameters, cache, X, Y\". Outputs: \"grads\".\n",
    "    back_prop = backward_propagation(X_train, Y_train, Y_prob, np.delete(W1, 0, 1), np.delete(W2, 0, 1), H, lamb = 3, m = m)\n",
    "\n",
    "    dW1 = back_prop['dW1']\n",
    "    dW2 = back_prop['dW2']\n",
    "        \n",
    "    # Gradient descent parameter update. Inputs: \"parameters, grads\". Outputs: \"parameters\".\n",
    "        \n",
    "    parameters = update_parameters(W1, W2, dW1, dW2, learning_rate = 0.2)\n",
    "    \n",
    "    W1 = parameters['W1']\n",
    "    W2 = parameters['W2']\n",
    "\n",
    "   # Cost function. Inputs: \"A2, Y, parameters\". Outputs: \"cost\".\n",
    "    loss = loss_function(Y_prob, Y_train, np.delete(W1, 0, 1), np.delete(W2, 0, 1), penalty = 3, m = m)\n",
    " #   print(loss)\n",
    "\n",
    "    lossHistory.append(loss)\n",
    "    if  i % 100 == 0:\n",
    "            print (\"Cost after iteration %i: %f\" %(i, loss))\n",
    "\n",
    "'''\n",
    "## compute the accuracy of the model\n",
    "Y_pred = np.argmax(Y_prob, axis = 1) + 1\n",
    "Y_true = np.delete(Y_colmat, test_pos, 0) \n",
    "k = (Y_true.reshape(Y_true.shape[0], ) == Y_pred).astype(int)\n",
    "Accuracy = np.sum(k)/k.shape[0]\n",
    "print('Accuracy = ', Accuracy*100, '%')\n",
    "'''\n",
    "\n",
    "# Finally plot the cost of each iteration\n",
    "plt.plot(lossHistory)\n",
    "plt.ylabel('loss')\n",
    "plt.xlabel('iteration')\n",
    "plt.show()"
   ]
  },
  {
   "cell_type": "code",
   "execution_count": 20,
   "id": "31ad30f4",
   "metadata": {},
   "outputs": [
    {
     "name": "stdout",
     "output_type": "stream",
     "text": [
      "The 10 samples and their predicted class is shown below: \n",
      "   samples  True Class  Predicted Class\n",
      "0     2171           4                9\n",
      "1      145          10               10\n",
      "2     1582           3                3\n",
      "3     2446           4                4\n",
      "4     3393           6                6\n",
      "5      815           1                1\n",
      "6     1378           2                2\n",
      "7      529           1                1\n",
      "8     3945           7                7\n",
      "9     4628           9                9\n"
     ]
    }
   ],
   "source": [
    "## Do the prediction and compare them with the test data \n",
    "\n",
    "Y_prob, cache = forward_propagation(X_test, parameters['W1'], parameters['W2'])\n",
    "Y_pred = np.argmax(Y_prob, 1) + 1\n",
    "true_digits = np.squeeze(Y_colmat[test_pos,:])\n",
    "df = pd.DataFrame({'samples': test_pos,'True Class': true_digits, 'Predicted Class': Y_pred } )\n",
    "print(\"The 10 samples and their predicted class is shown below: \")\n",
    "print(df)"
   ]
  }
 ],
 "metadata": {
  "kernelspec": {
   "display_name": "Python 3",
   "language": "python",
   "name": "python3"
  },
  "language_info": {
   "codemirror_mode": {
    "name": "ipython",
    "version": 3
   },
   "file_extension": ".py",
   "mimetype": "text/x-python",
   "name": "python",
   "nbconvert_exporter": "python",
   "pygments_lexer": "ipython3",
   "version": "3.8.8"
  }
 },
 "nbformat": 4,
 "nbformat_minor": 5
}
